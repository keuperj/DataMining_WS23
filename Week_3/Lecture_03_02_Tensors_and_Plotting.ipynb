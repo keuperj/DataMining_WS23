{
 "cells": [
  {
   "cell_type": "markdown",
   "metadata": {
    "slideshow": {
     "slide_type": "slide"
    }
   },
   "source": [
    " # Tensor Algebra and Plotting in Python"
   ]
  },
  {
   "cell_type": "markdown",
   "metadata": {
    "slideshow": {
     "slide_type": "subslide"
    }
   },
   "source": [
    "<img src=\"IMG/ML_BlackBox.png\">"
   ]
  },
  {
   "cell_type": "markdown",
   "metadata": {
    "slideshow": {
     "slide_type": "slide"
    }
   },
   "source": [
    "## What is a Tensor? "
   ]
  },
  {
   "cell_type": "markdown",
   "metadata": {
    "slideshow": {
     "slide_type": "-"
    }
   },
   "source": [
    "In mathematics, a **tensor** is a geometric object that maps in a multi-linear manner geometric vectors, scalars, and other tensors to a resulting tensor. **Vectors and scalars** which are often used in elementary physics and engineering applications, are considered as the simplest tensors...<br>\n",
    "An elementary example of mapping, describable as a tensor, is the **dot product**, which maps two vectors to a scalar. ...\" [Wikipedia]"
   ]
  },
  {
   "cell_type": "markdown",
   "metadata": {
    "slideshow": {
     "slide_type": "slide"
    }
   },
   "source": [
    "## NumPy - A Python Library for Arrays and Tensors  \n",
    "\n",
    "<center>\n",
    "    <img src=\"IMG/numpy.jpeg\">\n",
    "    <br><br>\n",
    "    <A HREF=\"https://docs.scipy.org/doc/numpy/\">https://docs.scipy.org/doc/numpy/</A>\n",
    "</center>"
   ]
  },
  {
   "cell_type": "code",
   "execution_count": 1,
   "metadata": {
    "slideshow": {
     "slide_type": "fragment"
    }
   },
   "outputs": [],
   "source": [
    "#comunity convention to name numpy \"np\"\n",
    "import numpy as np"
   ]
  },
  {
   "cell_type": "markdown",
   "metadata": {
    "slideshow": {
     "slide_type": "fragment"
    }
   },
   "source": [
    "NumPy introduction \"on the fly\" - detailed intro in the Lab session."
   ]
  },
  {
   "cell_type": "markdown",
   "metadata": {
    "slideshow": {
     "slide_type": "slide"
    }
   },
   "source": [
    "## Vector Arithmetic\n",
    "Let's start simple: recall vector notation and some basic vector algebra."
   ]
  },
  {
   "cell_type": "markdown",
   "metadata": {
    "slideshow": {
     "slide_type": "fragment"
    }
   },
   "source": [
    "Notation: we wrtite $\\vec{a}$ to denote elements of some vector space, e.g. $\\vec{a} \\in \\mathbb{R}^n$\n",
    "\n",
    "$\\vec{a} := (a_0, a_1, \\dots, a_n), a_i \\in \\mathbb{R}$\n",
    "\n",
    "See https://en.wikipedia.org/wiki/Vector_space for formal definition of vector spaces."
   ]
  },
  {
   "cell_type": "code",
   "execution_count": 2,
   "metadata": {
    "slideshow": {
     "slide_type": "subslide"
    }
   },
   "outputs": [
    {
     "data": {
      "text/plain": [
       "array([1, 2, 3, 4])"
      ]
     },
     "execution_count": 2,
     "metadata": {},
     "output_type": "execute_result"
    }
   ],
   "source": [
    "#in numpy we define vectors as 1D arrays\n",
    "a=np.array([1,2,3,4])\n",
    "a"
   ]
  },
  {
   "cell_type": "markdown",
   "metadata": {
    "slideshow": {
     "slide_type": "subslide"
    }
   },
   "source": [
    "### Basic Vector opperations\n",
    "For some example vector space $\\mathbb{R}^n$\n",
    "* addition: $$\\vec{c} = \\vec{a}+\\vec{b} \\rightarrow : \\forall a,b \\in \\mathbb{R}^n: c \\in \\mathbb{R}^n$$\n",
    "\n",
    "* scalar multiplocation: $ h \\vec{a}, h \\in \\mathbb{R} := (ha_0,ha_1,\\dots ha_n) $\n",
    "\n",
    "* **dot product**: $<\\vec{a},\\vec{b}> := c$ ,where $c \\in \\mathbb{R}$ "
   ]
  },
  {
   "cell_type": "code",
   "execution_count": 3,
   "metadata": {
    "slideshow": {
     "slide_type": "subslide"
    }
   },
   "outputs": [
    {
     "data": {
      "text/plain": [
       "array([3.8312471 , 5.69968421, 3.75301326, 1.15404977])"
      ]
     },
     "execution_count": 3,
     "metadata": {},
     "output_type": "execute_result"
    }
   ],
   "source": [
    "#in numpy:\n",
    "a=np.random.random(4)\n",
    "b=np.random.random(4)\n",
    "a+b*5"
   ]
  },
  {
   "cell_type": "code",
   "execution_count": 4,
   "metadata": {
    "slideshow": {
     "slide_type": "fragment"
    }
   },
   "outputs": [
    {
     "data": {
      "text/plain": [
       "array([0.3239272 , 0.70046801, 0.31935364, 0.03966304])"
      ]
     },
     "execution_count": 4,
     "metadata": {},
     "output_type": "execute_result"
    }
   ],
   "source": [
    "#WARNING:\n",
    "a*b #element wise mult"
   ]
  },
  {
   "cell_type": "code",
   "execution_count": 5,
   "metadata": {
    "slideshow": {
     "slide_type": "fragment"
    }
   },
   "outputs": [
    {
     "data": {
      "text/plain": [
       "1.3834118858756939"
      ]
     },
     "execution_count": 5,
     "metadata": {},
     "output_type": "execute_result"
    }
   ],
   "source": [
    "a.dot(b) #this is a dot product !"
   ]
  },
  {
   "cell_type": "markdown",
   "metadata": {
    "slideshow": {
     "slide_type": "subslide"
    }
   },
   "source": [
    "### Some more important vector opperations:\n",
    "* vector norm (formal): $\\|\\vec{a}\\| := \\sqrt{<\\vec{a},\\vec{a}> } $\n",
    "* eucledian norm: $\\|\\vec{a}\\|_2 := \\sqrt{\\sum_i a_i^2 } $\n"
   ]
  },
  {
   "cell_type": "code",
   "execution_count": 6,
   "metadata": {
    "slideshow": {
     "slide_type": "fragment"
    }
   },
   "outputs": [
    {
     "data": {
      "text/plain": [
       "3.4641016151377544"
      ]
     },
     "execution_count": 6,
     "metadata": {},
     "output_type": "execute_result"
    }
   ],
   "source": [
    "#in numpy\n",
    "a=np.array([2,2,2])\n",
    "np.linalg.norm(a)"
   ]
  },
  {
   "cell_type": "markdown",
   "metadata": {
    "slideshow": {
     "slide_type": "subslide"
    }
   },
   "source": [
    "### Some more important vector opperations:\n",
    "* vector norm (formal): $\\|\\vec{a}\\| := \\sqrt{<\\vec{a},\\vec{a}> } $\n",
    "* eucledian norm: $\\|\\vec{a}\\|_2 := \\sqrt{\\sum_i a_i^2 } $\n",
    "* outer product (dyadic product): $\\vec{a} \\otimes \\vec{b} := \\vec{a}\\vec{b}^T$ (Matrix product)"
   ]
  },
  {
   "cell_type": "markdown",
   "metadata": {
    "slideshow": {
     "slide_type": "slide"
    }
   },
   "source": [
    "## Matrix Algebra"
   ]
  },
  {
   "cell_type": "markdown",
   "metadata": {
    "slideshow": {
     "slide_type": "subslide"
    }
   },
   "source": [
    "### Definition\n",
    "A **matrix** $A$ is defined as a $m \\times n$ 2d tensor (rank 2):\n",
    "$A := \\left(\\begin{matrix} a_{00} & a_{01} & \\dots & a_{0n}\\\\ \\vdots & &  & \\vdots\\\\a_{m0} & a_{m1}& \\dots &a_{mn} \\end{matrix} \\right) $\n",
    "\n",
    "* e.g. with $m$ **row vectors** $\\in \\mathbb{R}^n$ and $n$ **column vectors** $\\in \\mathbb{R}^m$\n",
    "* $\\forall a_{ij} \\in \\mathbb{R}$"
   ]
  },
  {
   "cell_type": "code",
   "execution_count": 7,
   "metadata": {
    "scrolled": true,
    "slideshow": {
     "slide_type": "subslide"
    }
   },
   "outputs": [
    {
     "data": {
      "text/plain": [
       "array([[1, 2, 3, 4],\n",
       "       [1, 2, 3, 4],\n",
       "       [5, 6, 7, 8]])"
      ]
     },
     "execution_count": 7,
     "metadata": {},
     "output_type": "execute_result"
    }
   ],
   "source": [
    "#in numpy\n",
    "A=np.array([[1,2,3,4],[1,2,3,4],[5,6,7,8]])\n",
    "A"
   ]
  },
  {
   "cell_type": "markdown",
   "metadata": {
    "slideshow": {
     "slide_type": "subslide"
    }
   },
   "source": [
    "#### Example I: Slicing \n"
   ]
  },
  {
   "cell_type": "code",
   "execution_count": 11,
   "metadata": {},
   "outputs": [
    {
     "name": "stdout",
     "output_type": "stream",
     "text": [
      "[[1 2 3 4]\n",
      " [1 2 3 4]\n",
      " [5 6 7 8]]\n"
     ]
    },
    {
     "data": {
      "text/plain": [
       "2"
      ]
     },
     "execution_count": 11,
     "metadata": {},
     "output_type": "execute_result"
    }
   ],
   "source": [
    "#NOTE: column first access:\n",
    "print(A)\n",
    "A[0,1]"
   ]
  },
  {
   "cell_type": "code",
   "execution_count": 12,
   "metadata": {
    "scrolled": true
   },
   "outputs": [
    {
     "data": {
      "text/plain": [
       "array([[3, 4]])"
      ]
     },
     "execution_count": 12,
     "metadata": {},
     "output_type": "execute_result"
    }
   ],
   "source": [
    "#get sub-array\n",
    "A[1:2,2:4]"
   ]
  },
  {
   "cell_type": "code",
   "execution_count": 13,
   "metadata": {
    "slideshow": {
     "slide_type": "fragment"
    }
   },
   "outputs": [
    {
     "data": {
      "text/plain": [
       "array([[1, 3],\n",
       "       [1, 3],\n",
       "       [5, 7]])"
      ]
     },
     "execution_count": 13,
     "metadata": {},
     "output_type": "execute_result"
    }
   ],
   "source": [
    "#all of first dim, every second of seconf dim\n",
    "A[:,0::2]"
   ]
  },
  {
   "cell_type": "markdown",
   "metadata": {
    "slideshow": {
     "slide_type": "subslide"
    }
   },
   "source": [
    "#### Example II: linear mappings / equation systems\n",
    "Write system of linear equations\n",
    "<img src=\"IMG/lin_eq.svg\">\n",
    "as $Ax = b$ with\n",
    "<img src=\"IMG/lin_mat.svg\">"
   ]
  },
  {
   "cell_type": "code",
   "execution_count": 15,
   "metadata": {
    "slideshow": {
     "slide_type": "subslide"
    }
   },
   "outputs": [
    {
     "data": {
      "text/plain": [
       "array([2., 3.])"
      ]
     },
     "execution_count": 15,
     "metadata": {},
     "output_type": "execute_result"
    }
   ],
   "source": [
    "# NumPy: Solve the system of equations 3 * x0 + x1 = 9 and x0 + 2 * x1 = 8:\n",
    "A = np.array([[3,1], [1,2]])\n",
    "b = np.array([9,8])\n",
    "np.linalg.solve(A, b)"
   ]
  },
  {
   "cell_type": "markdown",
   "metadata": {
    "slideshow": {
     "slide_type": "subslide"
    }
   },
   "source": [
    "#### Example III: Eigenvalue Decomposition"
   ]
  },
  {
   "cell_type": "code",
   "execution_count": 16,
   "metadata": {
    "slideshow": {
     "slide_type": "-"
    }
   },
   "outputs": [],
   "source": [
    "A=np.array([[1,1,0,0],[3,3,0,0],[2,2,0,0],[4,4,0,0]])\n",
    "v,V=np.linalg.eig(A)"
   ]
  },
  {
   "cell_type": "code",
   "execution_count": 17,
   "metadata": {
    "slideshow": {
     "slide_type": "-"
    }
   },
   "outputs": [
    {
     "data": {
      "text/plain": [
       "array([0., 0., 0., 4.])"
      ]
     },
     "execution_count": 17,
     "metadata": {},
     "output_type": "execute_result"
    }
   ],
   "source": [
    "v"
   ]
  },
  {
   "cell_type": "markdown",
   "metadata": {
    "slideshow": {
     "slide_type": "subslide"
    }
   },
   "source": [
    "### Special types of Matrices\n",
    "* **Unit Matrix** (or Identity Matrix): $I_n := \\left(\\begin{matrix} 1 & 0 & 0 &\\dots & 0\\\\ 0 & 1 & 0 & \\dots & 0\\\\ \\vdots & & & & \\vdots\\\\ 0 & \\dots& 0 & 1 & 0\\\\0 & 0& \\dots & 0& 1 \\end{matrix} \\right)$\n",
    "with $I_mA = AI_n = A$\n",
    "<br><br>\n",
    "* **Symmetric Matrix**: square Matrix $(m=n)$ where $A^T=A$  \n",
    "<BR><BR>\n",
    "\n",
    "* **Diagonal Matrix**: square Matrix where $a_{mn} := 0, \\quad\\forall m\\neq m$ \n"
   ]
  },
  {
   "cell_type": "code",
   "execution_count": 18,
   "metadata": {
    "slideshow": {
     "slide_type": "subslide"
    }
   },
   "outputs": [
    {
     "data": {
      "text/plain": [
       "array([[1., 0., 0., 0.],\n",
       "       [0., 1., 0., 0.],\n",
       "       [0., 0., 1., 0.],\n",
       "       [0., 0., 0., 1.]])"
      ]
     },
     "execution_count": 18,
     "metadata": {},
     "output_type": "execute_result"
    }
   ],
   "source": [
    "np.identity(4)"
   ]
  },
  {
   "cell_type": "markdown",
   "metadata": {
    "slideshow": {
     "slide_type": "slide"
    }
   },
   "source": [
    "# Data Visualization with MatplotLib\n",
    "\n",
    "<img src=\"IMG/matplotlib.svg\">\n",
    "\n",
    "## [https://matplotlib.org/](https://matplotlib.org/)"
   ]
  },
  {
   "cell_type": "markdown",
   "metadata": {
    "slideshow": {
     "slide_type": "subslide"
    }
   },
   "source": [
    "<img src=\"IMG/matplotlib_demo.png\" width=1000>\n",
    "\n",
    "### [Matplotlib Gallery: https://matplotlib.org/stable/gallery/index.html](https://matplotlib.org/stable/gallery/index.html)"
   ]
  },
  {
   "cell_type": "code",
   "execution_count": 19,
   "metadata": {
    "slideshow": {
     "slide_type": "subslide"
    }
   },
   "outputs": [],
   "source": [
    "%matplotlib inline \n",
    "#inline import for jupyter -> no extra windows!\n",
    "\n",
    "import matplotlib\n",
    "import matplotlib.pyplot as plt\n",
    "import numpy as np\n",
    "\n",
    "#dummy data\n",
    "x = np.linspace(0, 5, 10)\n",
    "y = x ** 2"
   ]
  },
  {
   "cell_type": "code",
   "execution_count": 20,
   "metadata": {
    "slideshow": {
     "slide_type": "subslide"
    }
   },
   "outputs": [
    {
     "data": {
      "image/png": "[encoded data removed]",
      "text/plain": [
       "<Figure size 432x288 with 1 Axes>"
      ]
     },
     "metadata": {
      "needs_background": "light"
     },
     "output_type": "display_data"
    }
   ],
   "source": [
    "#plot\n",
    "plt.figure()\n",
    "plt.plot(x, y, 'r')\n",
    "plt.xlabel('x')\n",
    "plt.ylabel('y')\n",
    "plt.title('title')\n",
    "plt.show()"
   ]
  },
  {
   "cell_type": "markdown",
   "metadata": {
    "slideshow": {
     "slide_type": "slide"
    }
   },
   "source": [
    "### Details in the Lab session !"
   ]
  }
 ],
 "metadata": {
  "celltoolbar": "Slideshow",
  "kernelspec": {
   "display_name": "Python 3",
   "language": "python",
   "name": "python3"
  },
  "language_info": {
   "codemirror_mode": {
    "name": "ipython",
    "version": 3
   },
   "file_extension": ".py",
   "mimetype": "text/x-python",
   "name": "python",
   "nbconvert_exporter": "python",
   "pygments_lexer": "ipython3",
   "version": "3.7.6"
  },
  "livereveal": {
   "enable_chalkboard": true,
   "footer": "Janis Keuper - WS21",
   "header": "Data Mining"
  }
 },
 "nbformat": 4,
 "nbformat_minor": 2
}
