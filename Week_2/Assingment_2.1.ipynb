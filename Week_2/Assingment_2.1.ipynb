{
  "cells": [
    {
      "cell_type": "markdown",
      "metadata": {
        "id": "sP8YydLaHKCh"
      },
      "source": [
        "# Assignment 2.1\n",
        "### Scrape and Analyse\n",
        "\n",
        "* API [https://beautiful-soup-4.readthedocs.io/en/latest/](https://beautiful-soup-4.readthedocs.io/en/latest/)"
      ]
    },
    {
      "cell_type": "code",
      "execution_count": null,
      "metadata": {
        "id": "RFHNQ9oGHKCm"
      },
      "outputs": [],
      "source": [
        "import pandas as pd\n",
        "import requests\n",
        "from bs4 import BeautifulSoup"
      ]
    },
    {
      "cell_type": "markdown",
      "metadata": {
        "id": "wxRabh5QHKCo"
      },
      "source": [
        "### Tasks\n",
        "Scrape data from the website [http://www.nationmaster.com](http://www.nationmaster.com/), convert it into Pandas data frames and use pandas queries to answer the following questions: "
      ]
    },
    {
      "cell_type": "markdown",
      "metadata": {
        "id": "-ezCVT47HKCo"
      },
      "source": [
        "#### 1\n",
        "Get the number of internet users per country, remove all NaN entries and return the top 10 countries with the highest absolute number of internet users. "
      ]
    },
    {
      "cell_type": "code",
      "execution_count": null,
      "metadata": {
        "id": "7wjj5Mz8HKCp"
      },
      "outputs": [],
      "source": []
    },
    {
      "cell_type": "markdown",
      "metadata": {
        "id": "XRmsTkdEHKCp"
      },
      "source": [
        "#### 2\n",
        "Get the number of internet users per country, remove all NaN entries and return the top 10 countries with the highest number of internet users relative to the populutation. Hint: you need to scrape the population number from another page)"
      ]
    },
    {
      "cell_type": "code",
      "execution_count": null,
      "metadata": {
        "id": "j18posDXHKCq"
      },
      "outputs": [],
      "source": []
    },
    {
      "cell_type": "markdown",
      "metadata": {
        "id": "plzCfk9GHKCq"
      },
      "source": [
        "#### 3\n",
        "Compute the correlation between the crime rate (murders per 100k) and the education level. Compare this to the correlation of crime rate and poverty (relative BIP). Hint: use pandas build in correlation function: [https://pandas.pydata.org/docs/reference/api/pandas.DataFrame.corr.html](https://pandas.pydata.org/docs/reference/api/pandas.DataFrame.corr.html)"
      ]
    },
    {
      "cell_type": "code",
      "execution_count": null,
      "metadata": {
        "id": "AydZp2ctHKCr"
      },
      "outputs": [],
      "source": []
    },
    {
      "cell_type": "markdown",
      "metadata": {
        "id": "J1tfQ99QHKCr"
      },
      "source": [
        "### REST API\n",
        "#### Using data from [https://www.energidataservice.dk](https://www.energidataservice.dk) "
      ]
    },
    {
      "cell_type": "code",
      "execution_count": 1,
      "metadata": {
        "id": "9e6T817fHKCs"
      },
      "outputs": [],
      "source": [
        "import pandas as pd\n",
        "import requests\n",
        "from pandas import json_normalize"
      ]
    },
    {
      "cell_type": "code",
      "execution_count": 8,
      "metadata": {
        "scrolled": true,
        "colab": {
          "base_uri": "https://localhost:8080/",
          "height": 357
        },
        "id": "Wyp8WRtAHKCs",
        "outputId": "8a4677f4-4f4a-460e-cb4f-7318bd3b4bce"
      },
      "outputs": [
        {
          "output_type": "execute_result",
          "data": {
            "text/plain": [
              "               HourUTC               HourDK PriceArea SpotPurchase SpotSale  \\\n",
              "0  2021-08-22T21:00:00  2021-08-22T23:00:00       DK1         None     None   \n",
              "1  2021-08-22T21:00:00  2021-08-22T23:00:00       DK2         None     None   \n",
              "2  2021-08-22T20:00:00  2021-08-22T22:00:00       DK1         None     None   \n",
              "3  2021-08-22T20:00:00  2021-08-22T22:00:00       DK2         None     None   \n",
              "4  2021-08-22T19:00:00  2021-08-22T21:00:00       DK1         None     None   \n",
              "\n",
              "   SpotPriceDKK ElbasAveragePriceDKK ElbasMaxPriceDKK ElbasMinPriceDKK  \\\n",
              "0    609.450012                 None             None             None   \n",
              "1    609.450012                 None             None             None   \n",
              "2    670.059998                 None             None             None   \n",
              "3    670.059998                 None             None             None   \n",
              "4    710.080017                 None             None             None   \n",
              "\n",
              "   SpotPriceEUR ElbasAveragePriceEUR ElbasMaxPriceEUR ElbasMinPriceEUR  \n",
              "0     81.949997                 None             None             None  \n",
              "1     81.949997                 None             None             None  \n",
              "2     90.099998                 None             None             None  \n",
              "3     90.099998                 None             None             None  \n",
              "4     95.480003                 None             None             None  "
            ],
            "text/html": [
              "\n",
              "  <div id=\"df-e11e5292-50a7-453f-af4f-4902c0de837d\">\n",
              "    <div class=\"colab-df-container\">\n",
              "      <div>\n",
              "<style scoped>\n",
              "    .dataframe tbody tr th:only-of-type {\n",
              "        vertical-align: middle;\n",
              "    }\n",
              "\n",
              "    .dataframe tbody tr th {\n",
              "        vertical-align: top;\n",
              "    }\n",
              "\n",
              "    .dataframe thead th {\n",
              "        text-align: right;\n",
              "    }\n",
              "</style>\n",
              "<table border=\"1\" class=\"dataframe\">\n",
              "  <thead>\n",
              "    <tr style=\"text-align: right;\">\n",
              "      <th></th>\n",
              "      <th>HourUTC</th>\n",
              "      <th>HourDK</th>\n",
              "      <th>PriceArea</th>\n",
              "      <th>SpotPurchase</th>\n",
              "      <th>SpotSale</th>\n",
              "      <th>SpotPriceDKK</th>\n",
              "      <th>ElbasAveragePriceDKK</th>\n",
              "      <th>ElbasMaxPriceDKK</th>\n",
              "      <th>ElbasMinPriceDKK</th>\n",
              "      <th>SpotPriceEUR</th>\n",
              "      <th>ElbasAveragePriceEUR</th>\n",
              "      <th>ElbasMaxPriceEUR</th>\n",
              "      <th>ElbasMinPriceEUR</th>\n",
              "    </tr>\n",
              "  </thead>\n",
              "  <tbody>\n",
              "    <tr>\n",
              "      <th>0</th>\n",
              "      <td>2021-08-22T21:00:00</td>\n",
              "      <td>2021-08-22T23:00:00</td>\n",
              "      <td>DK1</td>\n",
              "      <td>None</td>\n",
              "      <td>None</td>\n",
              "      <td>609.450012</td>\n",
              "      <td>None</td>\n",
              "      <td>None</td>\n",
              "      <td>None</td>\n",
              "      <td>81.949997</td>\n",
              "      <td>None</td>\n",
              "      <td>None</td>\n",
              "      <td>None</td>\n",
              "    </tr>\n",
              "    <tr>\n",
              "      <th>1</th>\n",
              "      <td>2021-08-22T21:00:00</td>\n",
              "      <td>2021-08-22T23:00:00</td>\n",
              "      <td>DK2</td>\n",
              "      <td>None</td>\n",
              "      <td>None</td>\n",
              "      <td>609.450012</td>\n",
              "      <td>None</td>\n",
              "      <td>None</td>\n",
              "      <td>None</td>\n",
              "      <td>81.949997</td>\n",
              "      <td>None</td>\n",
              "      <td>None</td>\n",
              "      <td>None</td>\n",
              "    </tr>\n",
              "    <tr>\n",
              "      <th>2</th>\n",
              "      <td>2021-08-22T20:00:00</td>\n",
              "      <td>2021-08-22T22:00:00</td>\n",
              "      <td>DK1</td>\n",
              "      <td>None</td>\n",
              "      <td>None</td>\n",
              "      <td>670.059998</td>\n",
              "      <td>None</td>\n",
              "      <td>None</td>\n",
              "      <td>None</td>\n",
              "      <td>90.099998</td>\n",
              "      <td>None</td>\n",
              "      <td>None</td>\n",
              "      <td>None</td>\n",
              "    </tr>\n",
              "    <tr>\n",
              "      <th>3</th>\n",
              "      <td>2021-08-22T20:00:00</td>\n",
              "      <td>2021-08-22T22:00:00</td>\n",
              "      <td>DK2</td>\n",
              "      <td>None</td>\n",
              "      <td>None</td>\n",
              "      <td>670.059998</td>\n",
              "      <td>None</td>\n",
              "      <td>None</td>\n",
              "      <td>None</td>\n",
              "      <td>90.099998</td>\n",
              "      <td>None</td>\n",
              "      <td>None</td>\n",
              "      <td>None</td>\n",
              "    </tr>\n",
              "    <tr>\n",
              "      <th>4</th>\n",
              "      <td>2021-08-22T19:00:00</td>\n",
              "      <td>2021-08-22T21:00:00</td>\n",
              "      <td>DK1</td>\n",
              "      <td>None</td>\n",
              "      <td>None</td>\n",
              "      <td>710.080017</td>\n",
              "      <td>None</td>\n",
              "      <td>None</td>\n",
              "      <td>None</td>\n",
              "      <td>95.480003</td>\n",
              "      <td>None</td>\n",
              "      <td>None</td>\n",
              "      <td>None</td>\n",
              "    </tr>\n",
              "  </tbody>\n",
              "</table>\n",
              "</div>\n",
              "      <button class=\"colab-df-convert\" onclick=\"convertToInteractive('df-e11e5292-50a7-453f-af4f-4902c0de837d')\"\n",
              "              title=\"Convert this dataframe to an interactive table.\"\n",
              "              style=\"display:none;\">\n",
              "        \n",
              "  <svg xmlns=\"http://www.w3.org/2000/svg\" height=\"24px\"viewBox=\"0 0 24 24\"\n",
              "       width=\"24px\">\n",
              "    <path d=\"M0 0h24v24H0V0z\" fill=\"none\"/>\n",
              "    <path d=\"M18.56 5.44l.94 2.06.94-2.06 2.06-.94-2.06-.94-.94-2.06-.94 2.06-2.06.94zm-11 1L8.5 8.5l.94-2.06 2.06-.94-2.06-.94L8.5 2.5l-.94 2.06-2.06.94zm10 10l.94 2.06.94-2.06 2.06-.94-2.06-.94-.94-2.06-.94 2.06-2.06.94z\"/><path d=\"M17.41 7.96l-1.37-1.37c-.4-.4-.92-.59-1.43-.59-.52 0-1.04.2-1.43.59L10.3 9.45l-7.72 7.72c-.78.78-.78 2.05 0 2.83L4 21.41c.39.39.9.59 1.41.59.51 0 1.02-.2 1.41-.59l7.78-7.78 2.81-2.81c.8-.78.8-2.07 0-2.86zM5.41 20L4 18.59l7.72-7.72 1.47 1.35L5.41 20z\"/>\n",
              "  </svg>\n",
              "      </button>\n",
              "      \n",
              "  <style>\n",
              "    .colab-df-container {\n",
              "      display:flex;\n",
              "      flex-wrap:wrap;\n",
              "      gap: 12px;\n",
              "    }\n",
              "\n",
              "    .colab-df-convert {\n",
              "      background-color: #E8F0FE;\n",
              "      border: none;\n",
              "      border-radius: 50%;\n",
              "      cursor: pointer;\n",
              "      display: none;\n",
              "      fill: #1967D2;\n",
              "      height: 32px;\n",
              "      padding: 0 0 0 0;\n",
              "      width: 32px;\n",
              "    }\n",
              "\n",
              "    .colab-df-convert:hover {\n",
              "      background-color: #E2EBFA;\n",
              "      box-shadow: 0px 1px 2px rgba(60, 64, 67, 0.3), 0px 1px 3px 1px rgba(60, 64, 67, 0.15);\n",
              "      fill: #174EA6;\n",
              "    }\n",
              "\n",
              "    [theme=dark] .colab-df-convert {\n",
              "      background-color: #3B4455;\n",
              "      fill: #D2E3FC;\n",
              "    }\n",
              "\n",
              "    [theme=dark] .colab-df-convert:hover {\n",
              "      background-color: #434B5C;\n",
              "      box-shadow: 0px 1px 3px 1px rgba(0, 0, 0, 0.15);\n",
              "      filter: drop-shadow(0px 1px 2px rgba(0, 0, 0, 0.3));\n",
              "      fill: #FFFFFF;\n",
              "    }\n",
              "  </style>\n",
              "\n",
              "      <script>\n",
              "        const buttonEl =\n",
              "          document.querySelector('#df-e11e5292-50a7-453f-af4f-4902c0de837d button.colab-df-convert');\n",
              "        buttonEl.style.display =\n",
              "          google.colab.kernel.accessAllowed ? 'block' : 'none';\n",
              "\n",
              "        async function convertToInteractive(key) {\n",
              "          const element = document.querySelector('#df-e11e5292-50a7-453f-af4f-4902c0de837d');\n",
              "          const dataTable =\n",
              "            await google.colab.kernel.invokeFunction('convertToInteractive',\n",
              "                                                     [key], {});\n",
              "          if (!dataTable) return;\n",
              "\n",
              "          const docLinkHtml = 'Like what you see? Visit the ' +\n",
              "            '<a target=\"_blank\" href=https://colab.research.google.com/notebooks/data_table.ipynb>data table notebook</a>'\n",
              "            + ' to learn more about interactive tables.';\n",
              "          element.innerHTML = '';\n",
              "          dataTable['output_type'] = 'display_data';\n",
              "          await google.colab.output.renderOutput(dataTable, element);\n",
              "          const docLink = document.createElement('div');\n",
              "          docLink.innerHTML = docLinkHtml;\n",
              "          element.appendChild(docLink);\n",
              "        }\n",
              "      </script>\n",
              "    </div>\n",
              "  </div>\n",
              "  "
            ]
          },
          "metadata": {},
          "execution_count": 8
        }
      ],
      "source": [
        "#get data from an open energy data service provider\n",
        "url = 'https://api.energidataservice.dk/dataset/NordpoolMarket?offset=0&sort=HourUTC%20DESC&timezone=dk'\n",
        "\n",
        "response = requests.get(url)\n",
        "dictr = response.json() #parse json to dict\n",
        "recs = dictr['records'] \n",
        "df = json_normalize(recs) #flatten json files into data frame\n",
        "df.head()"
      ]
    },
    {
      "cell_type": "markdown",
      "metadata": {
        "id": "4-E2uWeYHKCu"
      },
      "source": [
        "#### 4\n",
        "Compute overview statistics (mean, variance, quantiles, counts,...) for all variables. Hint: there is a single pandas call to get this ..."
      ]
    },
    {
      "cell_type": "code",
      "execution_count": null,
      "metadata": {
        "id": "1afCUxuoHKCu"
      },
      "outputs": [],
      "source": []
    },
    {
      "cell_type": "markdown",
      "metadata": {
        "id": "obrr9nquHKCv"
      },
      "source": [
        "#### 5 \n",
        "Compute the average ***SpotSale*** by each day. "
      ]
    },
    {
      "cell_type": "code",
      "execution_count": null,
      "metadata": {
        "id": "iBGAIjDsHKCv"
      },
      "outputs": [],
      "source": []
    },
    {
      "cell_type": "markdown",
      "metadata": {
        "id": "MIlKDmPaHKCv"
      },
      "source": [
        "#### 6 \n",
        "Compute the day with the highest variance in ***SpotPurchase***"
      ]
    },
    {
      "cell_type": "code",
      "execution_count": null,
      "metadata": {
        "id": "I1mj0kOPHKCv"
      },
      "outputs": [],
      "source": []
    }
  ],
  "metadata": {
    "kernelspec": {
      "display_name": "Python 3",
      "language": "python",
      "name": "python3"
    },
    "language_info": {
      "codemirror_mode": {
        "name": "ipython",
        "version": 3
      },
      "file_extension": ".py",
      "mimetype": "text/x-python",
      "name": "python",
      "nbconvert_exporter": "python",
      "pygments_lexer": "ipython3",
      "version": "3.7.6"
    },
    "colab": {
      "provenance": []
    }
  },
  "nbformat": 4,
  "nbformat_minor": 0
}