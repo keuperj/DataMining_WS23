{
 "cells": [
  {
   "cell_type": "markdown",
   "metadata": {},
   "source": [
    "# Finding the best hyper-parameters\n",
    "\n",
    "#### Problem: most ML algorithms need to setup with parameters -> how to find the \"best\" parameters ?\n",
    "\n",
    "We return to the \"Digits\" subset of MNIST and optimize our clustering approach ..."
   ]
  },
  {
   "cell_type": "code",
   "execution_count": 2,
   "metadata": {},
   "outputs": [],
   "source": [
    "from sklearn.datasets import load_digits\n",
    "data, labels = load_digits(return_X_y=True)"
   ]
  },
  {
   "cell_type": "markdown",
   "metadata": {},
   "source": [
    "## Task 1: building pipelines in Scikit Learn\n",
    "Use Scikit-Learns [pipeline](https://scikit-learn.org/stable/modules/generated/sklearn.pipeline.Pipeline.html) mechanism to organize your clustering workflow.\n",
    "* build a pipeline with data normalization and a clustering algorithm\n",
    "* train and evaluate the pipeline\n",
    "* [visualize](https://scikit-learn.org/stable/auto_examples/miscellaneous/plot_pipeline_display.html#sphx-glr-auto-examples-miscellaneous-plot-pipeline-display-py) the pipeline"
   ]
  },
  {
   "cell_type": "code",
   "execution_count": 1,
   "metadata": {},
   "outputs": [],
   "source": []
  },
  {
   "cell_type": "markdown",
   "metadata": {},
   "source": [
    "## Task 2: optimize the pipeline with ParameterGrid\n",
    "Now we want to automatically search fpr the best parameters:\n",
    "* use a [parameter grid](https://scikit-learn.org/stable/modules/generated/sklearn.model_selection.ParameterGrid.html) to optimize over \n",
    "    * different cluster algorithms\n",
    "    * and their hyper parameters (e.g. 'k' in K-means)\n",
    "* use a cluster metric to evaluate and rank the different combinations\n",
    "* search over all clustering algorithms we have discussed so far\n",
    "\n",
    "HINT: use the Python [unpacking opperator **](https://towardsdatascience.com/unpacking-operators-in-python-306ae44cd480) to pass arguments to your pipeline"
   ]
  },
  {
   "cell_type": "code",
   "execution_count": null,
   "metadata": {},
   "outputs": [],
   "source": []
  }
 ],
 "metadata": {
  "kernelspec": {
   "display_name": "Python 3",
   "language": "python",
   "name": "python3"
  },
  "language_info": {
   "codemirror_mode": {
    "name": "ipython",
    "version": 3
   },
   "file_extension": ".py",
   "mimetype": "text/x-python",
   "name": "python",
   "nbconvert_exporter": "python",
   "pygments_lexer": "ipython3",
   "version": "3.7.6"
  }
 },
 "nbformat": 4,
 "nbformat_minor": 4
}
