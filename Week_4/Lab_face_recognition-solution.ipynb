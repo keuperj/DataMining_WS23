{
 "cells": [
  {
   "cell_type": "markdown",
   "metadata": {},
   "source": [
    "\n",
    "# Face recognition with eigenfaces \n",
    "\n",
    "### Data: [\"Labeled Face in the Wild\"](http://vis-www.cs.umass.edu/lfw/index.html)"
   ]
  },
  {
   "cell_type": "code",
   "execution_count": 1,
   "metadata": {},
   "outputs": [],
   "source": [
    "# basic imports\n",
    "from time import time #to compute runtimes\n",
    "import numpy as np\n",
    "import matplotlib.pyplot as plt\n",
    "%matplotlib inline"
   ]
  },
  {
   "cell_type": "markdown",
   "metadata": {},
   "source": [
    "### Get Data\n"
   ]
  },
  {
   "cell_type": "code",
   "execution_count": 2,
   "metadata": {},
   "outputs": [],
   "source": [
    "from sklearn.datasets import fetch_lfw_people #data is part of Scikit Learn\n",
    "\n",
    "lfw_people = fetch_lfw_people(min_faces_per_person=70, resize=0.4) #get data - take some time"
   ]
  },
  {
   "cell_type": "code",
   "execution_count": 3,
   "metadata": {},
   "outputs": [
    {
     "name": "stdout",
     "output_type": "stream",
     "text": [
      "1288 50 37\n"
     ]
    }
   ],
   "source": [
    "# get data shapes\n",
    "n_samples, h, w = lfw_people.images.shape\n",
    "print(n_samples, h, w)"
   ]
  },
  {
   "cell_type": "code",
   "execution_count": 4,
   "metadata": {},
   "outputs": [],
   "source": [
    "# get data and labels\n",
    "X = lfw_people.data #data\n",
    "y = lfw_people.target #labels"
   ]
  },
  {
   "cell_type": "code",
   "execution_count": 5,
   "metadata": {
    "scrolled": false
   },
   "outputs": [
    {
     "name": "stdout",
     "output_type": "stream",
     "text": [
      "number of pixels per image: 1850\n",
      "names of people ['Ariel Sharon' 'Colin Powell' 'Donald Rumsfeld' 'George W Bush'\n",
      " 'Gerhard Schroeder' 'Hugo Chavez' 'Tony Blair']\n",
      "number of people in DB: 7\n"
     ]
    }
   ],
   "source": [
    "n_features = X.shape[1] #get size of images\n",
    "print(\"number of pixels per image:\", n_features)\n",
    "\n",
    "target_names = lfw_people.target_names #get unique IDs of people\n",
    "n_classes = target_names.shape[0]\n",
    "\n",
    "print(\"names of people\", target_names)\n",
    "print(\"number of people in DB:\", n_classes)"
   ]
  },
  {
   "cell_type": "code",
   "execution_count": 6,
   "metadata": {},
   "outputs": [
    {
     "data": {
      "text/plain": [
       "Text(0.5, 1.0, 'George W Bush')"
      ]
     },
     "execution_count": 6,
     "metadata": {},
     "output_type": "execute_result"
    },
    {
     "data": {
      "image/png": "[encoded data removed]",
      "text/plain": [
       "<Figure size 432x288 with 1 Axes>"
      ]
     },
     "metadata": {
      "needs_background": "light"
     },
     "output_type": "display_data"
    }
   ],
   "source": [
    "#vis example\n",
    "plt.gray()\n",
    "plt.imshow(X[12,:].reshape(h,w))\n",
    "plt.title(target_names[y[12]])"
   ]
  },
  {
   "cell_type": "markdown",
   "metadata": {},
   "source": [
    "## ML Model"
   ]
  },
  {
   "cell_type": "markdown",
   "metadata": {},
   "source": [
    "### Task 1: Split in test and train set\n",
    "* 20% test - 80% train -> use SKL split function!"
   ]
  },
  {
   "cell_type": "code",
   "execution_count": 7,
   "metadata": {},
   "outputs": [],
   "source": [
    "from sklearn.model_selection import train_test_split\n",
    "\n",
    "X_train, X_test, y_train, y_test = train_test_split(\n",
    "    X, y, test_size=0.2, random_state=42\n",
    ")"
   ]
  },
  {
   "cell_type": "markdown",
   "metadata": {},
   "source": [
    "### Task 2: Train and evaluate baseline Classifier\n",
    "* use ***black box*** SVM Algorithm with default parameters -> [https://scikit-learn.org/stable/modules/generated/sklearn.svm.SVC.html#sklearn.svm.SVC](https://scikit-learn.org/stable/modules/generated/sklearn.svm.SVC.html#sklearn.svm.SVC)"
   ]
  },
  {
   "cell_type": "code",
   "execution_count": 8,
   "metadata": {},
   "outputs": [
    {
     "data": {
      "text/plain": [
       "0.7906976744186046"
      ]
     },
     "execution_count": 8,
     "metadata": {},
     "output_type": "execute_result"
    }
   ],
   "source": [
    "from sklearn.svm import SVC\n",
    "SVM = SVC()\n",
    "SVM.fit(X_train,y_train)#train\n",
    "SVM.score(X_test,y_test)#get accuracy score for test"
   ]
  },
  {
   "cell_type": "code",
   "execution_count": 9,
   "metadata": {},
   "outputs": [
    {
     "data": {
      "text/plain": [
       "array([[  6,   0,   2,   3,   0,   0,   0],\n",
       "       [  1,  39,   0,   7,   0,   0,   0],\n",
       "       [  0,   1,  13,   8,   0,   0,   0],\n",
       "       [  0,   3,   0, 116,   0,   0,   0],\n",
       "       [  0,   0,   0,   5,  10,   1,   3],\n",
       "       [  0,   2,   0,   6,   1,   4,   0],\n",
       "       [  0,   2,   0,   6,   3,   0,  16]])"
      ]
     },
     "execution_count": 9,
     "metadata": {},
     "output_type": "execute_result"
    }
   ],
   "source": [
    "from sklearn.metrics import confusion_matrix\n",
    "pred = SVM.predict(X_test)\n",
    "confusion_matrix(y_test, pred)"
   ]
  },
  {
   "cell_type": "markdown",
   "metadata": {},
   "source": [
    "### Task 3: Apply PCA to train data\n",
    "* Plot Eigenvalues (explained variance) and find cut-off \n",
    "* Visualize the first 8 Eigenvectors\n",
    "* Project all data (train+test) to Eigen-Face-Space\n",
    "* Reconstruct a sample Face from Eigenfaces \n",
    "\n",
    "-> see [https://scikit-learn.org/stable/modules/generated/sklearn.decomposition.PCA.html](https://scikit-learn.org/stable/modules/generated/sklearn.decomposition.PCA.html)"
   ]
  },
  {
   "cell_type": "code",
   "execution_count": 10,
   "metadata": {},
   "outputs": [
    {
     "data": {
      "text/plain": [
       "PCA()"
      ]
     },
     "execution_count": 10,
     "metadata": {},
     "output_type": "execute_result"
    }
   ],
   "source": [
    "from sklearn.decomposition import PCA\n",
    "pca = PCA()\n",
    "pca.fit(X_train)"
   ]
  },
  {
   "cell_type": "code",
   "execution_count": 11,
   "metadata": {
    "scrolled": false
   },
   "outputs": [
    {
     "data": {
      "text/plain": [
       "[<matplotlib.lines.Line2D at 0x7f4d5fbf5b90>]"
      ]
     },
     "execution_count": 11,
     "metadata": {},
     "output_type": "execute_result"
    },
    {
     "data": {
      "image/png": "[encoded data removed]",
      "text/plain": [
       "<Figure size 432x288 with 1 Axes>"
      ]
     },
     "metadata": {
      "needs_background": "light"
     },
     "output_type": "display_data"
    }
   ],
   "source": [
    "plt.plot(pca.explained_variance_)"
   ]
  },
  {
   "cell_type": "code",
   "execution_count": 29,
   "metadata": {},
   "outputs": [
    {
     "data": {
      "text/plain": [
       "PCA(n_components=150)"
      ]
     },
     "execution_count": 29,
     "metadata": {},
     "output_type": "execute_result"
    }
   ],
   "source": [
    "pca = PCA(n_components=150, whiten=False)#set cut-off to 200\n",
    "pca.fit(X_train)"
   ]
  },
  {
   "cell_type": "code",
   "execution_count": 30,
   "metadata": {
    "scrolled": true
   },
   "outputs": [
    {
     "data": {
      "image/png": "[encoded data removed]",
      "text/plain": [
       "<Figure size 1080x432 with 8 Axes>"
      ]
     },
     "metadata": {
      "needs_background": "light"
     },
     "output_type": "display_data"
    }
   ],
   "source": [
    "fig, axes = plt.subplots(1, 8,figsize=(15,6))\n",
    "for i in range(8):\n",
    "    axes[i].imshow(pca.components_[i].reshape(h,w))"
   ]
  },
  {
   "cell_type": "code",
   "execution_count": 31,
   "metadata": {},
   "outputs": [],
   "source": [
    "#project\n",
    "train_pca = pca.transform(X_train)\n",
    "test_pca = pca.transform(X_test)"
   ]
  },
  {
   "cell_type": "code",
   "execution_count": 32,
   "metadata": {},
   "outputs": [
    {
     "data": {
      "text/plain": [
       "<matplotlib.image.AxesImage at 0x7f4d5f1e9790>"
      ]
     },
     "execution_count": 32,
     "metadata": {},
     "output_type": "execute_result"
    },
    {
     "data": {
      "image/png": "[encoded data removed]",
      "text/plain": [
       "<Figure size 1080x432 with 2 Axes>"
      ]
     },
     "metadata": {
      "needs_background": "light"
     },
     "output_type": "display_data"
    }
   ],
   "source": [
    "#vis example reconstruction\n",
    "testimage=1\n",
    "num_base=150\n",
    "fig, axes = plt.subplots(1, 2,figsize=(15,6))\n",
    "axes[0].imshow(X_train[testimage,:].reshape(h,w))\n",
    "reconst = np.zeros((h*w)) #init \n",
    "for e in range(num_base): #set number of used basefunctions here\n",
    "    reconst+=train_pca[testimage,e]*pca.components_[e]\n",
    "axes[1].imshow(reconst.reshape(h,w))"
   ]
  },
  {
   "cell_type": "markdown",
   "metadata": {},
   "source": [
    "### Task 4: Train a SVM on  the Eigen-Face representation \n",
    "* evaluate model on test"
   ]
  },
  {
   "cell_type": "code",
   "execution_count": 16,
   "metadata": {},
   "outputs": [
    {
     "data": {
      "text/plain": [
       "SVC()"
      ]
     },
     "execution_count": 16,
     "metadata": {},
     "output_type": "execute_result"
    }
   ],
   "source": [
    "SVM.fit(train_pca, y_train)"
   ]
  },
  {
   "cell_type": "code",
   "execution_count": 19,
   "metadata": {},
   "outputs": [],
   "source": [
    "y_pred = SVM.predict(test_pca)\n",
    "\n",
    "\n"
   ]
  },
  {
   "cell_type": "code",
   "execution_count": 18,
   "metadata": {},
   "outputs": [
    {
     "name": "stdout",
     "output_type": "stream",
     "text": [
      "                   precision    recall  f1-score   support\n",
      "\n",
      "     Ariel Sharon       1.00      0.36      0.53        11\n",
      "     Colin Powell       0.82      0.89      0.86        47\n",
      "  Donald Rumsfeld       1.00      0.68      0.81        22\n",
      "    George W Bush       0.77      0.98      0.87       119\n",
      "Gerhard Schroeder       1.00      0.74      0.85        19\n",
      "      Hugo Chavez       1.00      0.38      0.56        13\n",
      "       Tony Blair       1.00      0.67      0.80        27\n",
      "\n",
      "         accuracy                           0.83       258\n",
      "        macro avg       0.94      0.67      0.75       258\n",
      "     weighted avg       0.86      0.83      0.82       258\n",
      "\n",
      "[[  4   1   0   6   0   0   0]\n",
      " [  0  42   0   5   0   0   0]\n",
      " [  0   1  15   6   0   0   0]\n",
      " [  0   2   0 117   0   0   0]\n",
      " [  0   1   0   4  14   0   0]\n",
      " [  0   2   0   6   0   5   0]\n",
      " [  0   2   0   7   0   0  18]]\n"
     ]
    }
   ],
   "source": [
    "from sklearn.metrics import classification_report\n",
    "print(classification_report(y_test, y_pred, target_names=target_names))\n",
    "print(confusion_matrix(y_test, y_pred, labels=range(n_classes)))"
   ]
  },
  {
   "cell_type": "code",
   "execution_count": null,
   "metadata": {},
   "outputs": [],
   "source": []
  }
 ],
 "metadata": {
  "kernelspec": {
   "display_name": "Python 3",
   "language": "python",
   "name": "python3"
  },
  "language_info": {
   "codemirror_mode": {
    "name": "ipython",
    "version": 3
   },
   "file_extension": ".py",
   "mimetype": "text/x-python",
   "name": "python",
   "nbconvert_exporter": "python",
   "pygments_lexer": "ipython3",
   "version": "3.7.6"
  }
 },
 "nbformat": 4,
 "nbformat_minor": 1
}
